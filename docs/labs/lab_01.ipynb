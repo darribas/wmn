{
 "cells": [
  {
   "cell_type": "markdown",
   "metadata": {},
   "source": [
    "# Lab 1 - Getting up to speed\n",
    "\n",
    "This lab has two main parts. In the first one, we will make sure you are signed up for all the services we will be using throughout the course. This way, when the time comes, you'll be ready to go and will be able to jump into the task right away. In the second part, we will introduce/refresh the Jupyter Notebook, a file format that is common in scientific computing and that allows us to combine formatted text with code and rich content from the web such as image, video, or interactive maps.\n",
    "\n",
    "## Sign up for relevant services\n",
    "\n",
    "Much of the practical aspect of this course will rely on web products that provide functionality through the internet. Every service we will use in class has at least a free tier, but you will need to sign up before hand.\n",
    "\n",
    "Here is a list of the services you will need to register:\n",
    "\n",
    "- [`CDRC Data`](http://data.cdrc.ac.uk/): we will use some of the data provided by the CDRC, so a (free) account with them will be necessary.\n",
    "- [`CARTO`](https://carto.com/): CARTO provides an online platform for web mapping and location intelligence. They have a free tier that you can try for a limited amount of time, but the Geographic Data Science Lab has a subscription that will allow you to use it beyond the basic allowance. Do not sign up for the free account but instead make sure you have received the invite from the module leader.\n",
    "- [`Mapbox`](https://www.mapbox.com/): Mapbox is one of the industry leaders in web mapping. Their free tier is rather generous so will more than suffice for what we will do within the course. You can sign up for a new (free) account [here](https://account.mapbox.com/auth/signup/).\n",
    "\n",
    "In addition, below is a list of software we will also rely on during the course. They are all free and open-source, so you should be able to install them on your own laptop as well:\n",
    "\n",
    "- [`QGIS`](https://qgis.org/en/site/): the stable version (3.10 at the time of writing) is OK, any more recent version will also work. If you use a version older than 3.8, please make sure you also have installed the [`XYZ Tiles` plugin](https://github.com/lutraconsulting/qgis-xyz-tiles).\n",
    "- `Python`: at parts of the course, we will rely on Python to read, manipulate and write geospatial data. There are several libraries required, all of them provided by the [preferred installation way](https://gdsl-ul.github.io/soft_install/).\n"
   ]
  }
 ],
 "metadata": {
  "kernelspec": {
   "display_name": "Python 3",
   "language": "python",
   "name": "python3"
  },
  "language_info": {
   "codemirror_mode": {
    "name": "ipython",
    "version": 3
   },
   "file_extension": ".py",
   "mimetype": "text/x-python",
   "name": "python",
   "nbconvert_exporter": "python",
   "pygments_lexer": "ipython3",
   "version": "3.7.8"
  }
 },
 "nbformat": 4,
 "nbformat_minor": 4
}
